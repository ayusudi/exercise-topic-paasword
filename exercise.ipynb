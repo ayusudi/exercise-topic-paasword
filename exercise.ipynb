{
  "nbformat": 4,
  "nbformat_minor": 0,
  "metadata": {
    "colab": {
      "provenance": []
    },
    "kernelspec": {
      "name": "python3",
      "display_name": "Python 3"
    },
    "language_info": {
      "name": "python"
    }
  },
  "cells": [
    {
      "cell_type": "markdown",
      "source": [
        "Name :       \n",
        "Batch :      \n",
        "Objective :     "
      ],
      "metadata": {
        "id": "Gh5yxv_pMKek"
      }
    },
    {
      "cell_type": "markdown",
      "source": [
        "# Task 1 Check Password Difficulty\n",
        "\n",
        "Tugasmu memastikan bahwa input merupakan password yang baik / aman. Dengan spesifikasi sebagai berikut :\n",
        "\n",
        "- Terdapat minimal 1 angka\n",
        "- Terdapat minimal 1 huruf uppercae\n",
        "- Terdapat minimal 1 huruf lowercase\n",
        "- Terdapat minimal 1 symbol\n",
        "- Minimal terdiri dari 8 character\n",
        "- Tidak ada spasi dari input\n",
        "\n",
        "Output merupakan boolean.\n",
        "\n",
        "Contoh:\n",
        "```\n",
        "Input :  \"HCk-1001\"  \n",
        "Output : True\n",
        "\n",
        "Input : \"HCK-01\"\n",
        "Process :\n",
        "Tidak ada lowercase.  \n",
        "Kurang dari 8 character.  \n",
        "Ouput : False\n",
        "\n",
        "Input  : \"HCK  -01\"\n",
        "Process :\n",
        "Tidak ada lowercase.  \n",
        "Terdapat spasi pada password.  \n",
        "Output : False\n",
        "```"
      ],
      "metadata": {
        "id": "sduaYqWoMMaA"
      }
    },
    {
      "cell_type": "code",
      "execution_count": 11,
      "metadata": {
        "colab": {
          "base_uri": "https://localhost:8080/"
        },
        "id": "VTODNZuqMDFi",
        "outputId": "589f03fe-d340-48a9-a9c5-0cb278da3673"
      },
      "outputs": [
        {
          "output_type": "stream",
          "name": "stdout",
          "text": [
            "True\n",
            "False\n",
            "False\n",
            "False\n"
          ]
        }
      ],
      "source": [
        "# Your code is here"
      ]
    },
    {
      "cell_type": "markdown",
      "source": [
        "# Task 2 Counting the List of Passwords that Pass the Check\n",
        "\n",
        "Menghitung daftar kata sandi yang lolos pengecekan. Kamu diberikan list berikut\n",
        "\n",
        "```\n",
        "\"LISA\", \"LaLi54!\"  \n",
        "\"JISOO\", \"s000y4A!\"  \n",
        "\"ROSE\", \"Hank IsMyD0g\"  \n",
        "\"JENNIE\", \"13LankPuNk%\"  \n",
        "```\n",
        "\n",
        "Dari contoh data diatas merupakan nama dan password dan hasilnya yang lolos ada 2 yaitu JISOO dan JENNIE. Output yang kamu berikan sebagai berikut.\n",
        "\n",
        "```py\n",
        "{\n",
        "  \"total\": 2,\n",
        "  \"names\": [\"JISOO\", \"JENNIE\"]\n",
        "}\n",
        "```"
      ],
      "metadata": {
        "id": "DjejsmS7Ok8O"
      }
    },
    {
      "cell_type": "code",
      "source": [
        "# Your code is here"
      ],
      "metadata": {
        "colab": {
          "base_uri": "https://localhost:8080/"
        },
        "id": "3o7g95a5X9_n",
        "outputId": "7fb57a45-64fa-4735-9ab8-07c0ff000d9c"
      },
      "execution_count": 12,
      "outputs": [
        {
          "output_type": "stream",
          "name": "stdout",
          "text": [
            "{'total': 2, 'names': ['JISOO', 'JENNIE']}\n"
          ]
        }
      ]
    },
    {
      "cell_type": "markdown",
      "source": [
        "> Jika ada waktu lengkapi dengan flowchart juga yaa"
      ],
      "metadata": {
        "id": "OnxMZzMBSHs1"
      }
    }
  ]
}