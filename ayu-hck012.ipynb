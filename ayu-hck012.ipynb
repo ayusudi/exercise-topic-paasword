{
  "cells": [
    {
      "cell_type": "markdown",
      "metadata": {
        "id": "Gh5yxv_pMKek"
      },
      "source": [
        "Name :       \n",
        "Batch :      \n",
        "Objective :     "
      ]
    },
    {
      "cell_type": "markdown",
      "metadata": {
        "id": "sduaYqWoMMaA"
      },
      "source": [
        "# Task 1 Check Password Difficulty\n",
        "\n",
        "Tugasmu memastikan bahwa input merupakan password yang baik / aman. Dengan spesifikasi sebagai berikut :\n",
        "\n",
        "- Terdapat minimal 1 angka\n",
        "- Terdapat minimal 1 huruf uppercae\n",
        "- Terdapat minimal 1 huruf lowercase\n",
        "- Terdapat minimal 1 symbol\n",
        "- Minimal terdiri dari 8 character\n",
        "- Tidak ada spasi dari input\n",
        "\n",
        "Output merupakan boolean.\n",
        "\n",
        "Contoh:\n",
        "```txt\n",
        "Input :  \"HCk-1001\"  \n",
        "Output : True\n",
        "\n",
        "Input : \"HCK-01\"\n",
        "Process :\n",
        "Tidak ada lowercase.  \n",
        "Kurang dari 8 character.  \n",
        "Ouput : False\n",
        "\n",
        "Input  : \"HCK  -01\"\n",
        "Process :\n",
        "Tidak ada lowercase.  \n",
        "Terdapat spasi pada password.  \n",
        "Output : False\n",
        "```"
      ]
    },
    {
      "cell_type": "code",
      "execution_count": 22,
      "metadata": {
        "colab": {
          "base_uri": "https://localhost:8080/"
        },
        "id": "VTODNZuqMDFi",
        "outputId": "589f03fe-d340-48a9-a9c5-0cb278da3673"
      },
      "outputs": [
        {
          "name": "stdout",
          "output_type": "stream",
          "text": [
            "True\n",
            "False\n",
            "False\n"
          ]
        }
      ],
      "source": [
        "# - Terdapat minimal 1 angka\n",
        "# - Terdapat minimal 1 huruf uppercae\n",
        "# - Terdapat minimal 1 huruf lowercase\n",
        "# - Terdapat minimal 1 symbol\n",
        "# - Minimal terdiri dari 8 character v\n",
        "# - Tidak ada spasi dari input v\n",
        "# Your code is here\n",
        "\n",
        "def checkDifficulity(strPassword):\n",
        "  ''' \n",
        "  Fungsi ini untuk pengecekan spesifikasi password terdapat 6 pengecekan. \n",
        "  Input : string\n",
        "  Ouput : boolean\n",
        "  '''\n",
        "  # Variabel untuk flagging\n",
        "  checkLower = False \n",
        "  checkUpper = False \n",
        "  checkDigit = False \n",
        "  checkSymbol = False \n",
        "\n",
        "  if len(strPassword) < 8: \n",
        "    return False\n",
        "  elif ' ' in strPassword:\n",
        "    return False\n",
        "  \n",
        "  for char in strPassword: # looping perkarakter string dari strPassword \n",
        "    if char.islower():\n",
        "      checkLower = True\n",
        "    if char.isupper():\n",
        "      checkUpper = True\n",
        "    if char.isdigit():\n",
        "      checkDigit = True\n",
        "    if char.isalpha() == False and char.isdigit() == False:\n",
        "      checkSymbol = True\n",
        "  \n",
        "  if checkLower and checkUpper and checkDigit and checkSymbol:\n",
        "    return True\n",
        "  return False\n",
        "\n",
        "print(checkDifficulity(\"HCk1001\"))\n",
        "print(checkDifficulity(\"HCK-01\"))\n",
        "print(checkDifficulity(\"HCK  -01\"))\n"
      ]
    },
    {
      "cell_type": "markdown",
      "metadata": {
        "id": "DjejsmS7Ok8O"
      },
      "source": [
        "# Task 2 Counting the List of Passwords that Pass the Check\n",
        "\n",
        "Menghitung daftar kata sandi yang lolos pengecekan. Kamu diberikan list berikut\n",
        "\n",
        "```\n",
        "\"LISA\", \"LaLi54!\"  \n",
        "\"JISOO\", \"s000y4A!\"  \n",
        "\"ROSE\", \"Hank IsMyD0g\"  \n",
        "\"JENNIE\", \"13LankPuNk%\"  \n",
        "```\n",
        "\n",
        "Dari contoh data diatas merupakan nama dan password dan hasilnya yang lolos ada 2 yaitu JISOO dan JENNIE. Output yang kamu berikan sebagai berikut.\n",
        "\n",
        "```py\n",
        "{\n",
        "  \"total\": 2,\n",
        "  \"names\": [\"JISOO\", \"JENNIE\"]\n",
        "}\n",
        "```"
      ]
    },
    {
      "cell_type": "code",
      "execution_count": null,
      "metadata": {},
      "outputs": [],
      "source": [
        "# Dibebaskan bentuk input \n",
        "\n",
        "# List of List \n",
        "[\n",
        "  [\"LISA\", \"LaLi54!\"], \n",
        "  [\"JISOO\", \"s000y4A!\"],\n",
        "  [\"ROSE\", \"Hank IsMyD0g\"],\n",
        "  [\"JENNIE\", \"13LankPuNk%\"]\n",
        "]\n",
        "\n",
        "# Dictionary \n",
        "{\n",
        "  \"names\": [\"LISA\", \"JISOO\", \"ROSE\", \"JENNIE\"],\n",
        "  \"passwords\": [ \"LaLi54!\", \"s000y4A!\", \"Hank IsMyD0g\", \"13LankPuNk%\"]\n",
        "}\n",
        "\n",
        "# List of Dictionary \n",
        "[\n",
        "  { \"name\": \"LISA\", \"password\": \"LaLi54!\"},\n",
        "  { \"name\": \"JISOO\", \"password\": \"s000y4A!\"},\n",
        "  { \"name\": \"ROSE\", \"password\": \"Hank IsMyD0g\"},\n",
        "  { \"name\": \"JENNIE\", \"password\": \"13LankPuNk%\"}\n",
        "]\n"
      ]
    },
    {
      "cell_type": "code",
      "execution_count": 32,
      "metadata": {
        "colab": {
          "base_uri": "https://localhost:8080/"
        },
        "id": "3o7g95a5X9_n",
        "outputId": "7fb57a45-64fa-4735-9ab8-07c0ff000d9c"
      },
      "outputs": [
        {
          "name": "stdout",
          "output_type": "stream",
          "text": [
            "{'total': 2, 'names': ['JISOO', 'JENNIE']}\n"
          ]
        }
      ],
      "source": [
        "def countPasswordPass(data):\n",
        "  ''' \n",
        "  Untuk menghitung password yang lolos dari data \n",
        "  Input : list \n",
        "  Ouput : dictionary (terdiri dari total dan names)\n",
        "  '''\n",
        "  total = 0\n",
        "  names = []\n",
        "\n",
        "  # looping data dan mengecek kesulitan password dari index ke 1 \n",
        "  for el in data:\n",
        "    result = checkDifficulity(el[1])\n",
        "    if result :  # if result == True : \n",
        "      total += 1 \n",
        "      names.append(el[0])\n",
        "  \n",
        "  output = {\n",
        "    \"total\": total,\n",
        "    \"names\": names\n",
        "  }\n",
        "  return output\n",
        "\n",
        "input = [\n",
        "  [\"LISA\", \"LaLi54!\"], \n",
        "  [\"JISOO\", \"s000y4A!\"],\n",
        "  [\"ROSE\", \"Hank IsMyD0g\"],\n",
        "  [\"JENNIE\", \"13LankPuNk%\"]\n",
        "]\n",
        "print(countPasswordPass(input))\n",
        "\n",
        "input2 = [\n",
        "  [\"LISA\", \"LaLi54!\"], \n",
        "  [\"JISOO\", \"s000y4A!\"],\n",
        "]\n",
        "print(countPasswordPass(input2))"
      ]
    },
    {
      "cell_type": "markdown",
      "metadata": {
        "id": "OnxMZzMBSHs1"
      },
      "source": [
        "> Jika ada waktu lengkapi dengan flowchart juga yaa"
      ]
    }
  ],
  "metadata": {
    "colab": {
      "provenance": []
    },
    "kernelspec": {
      "display_name": "Python 3",
      "name": "python3"
    },
    "language_info": {
      "codemirror_mode": {
        "name": "ipython",
        "version": 3
      },
      "file_extension": ".py",
      "mimetype": "text/x-python",
      "name": "python",
      "nbconvert_exporter": "python",
      "pygments_lexer": "ipython3",
      "version": "3.11.5"
    }
  },
  "nbformat": 4,
  "nbformat_minor": 0
}
